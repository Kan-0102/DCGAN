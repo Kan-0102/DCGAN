{
  "nbformat": 4,
  "nbformat_minor": 0,
  "metadata": {
    "colab": {
      "provenance": [],
      "authorship_tag": "ABX9TyOkqqdL23kmAx3LnP6G36KS",
      "include_colab_link": true
    },
    "kernelspec": {
      "name": "python3",
      "display_name": "Python 3"
    },
    "language_info": {
      "name": "python"
    }
  },
  "cells": [
    {
      "cell_type": "markdown",
      "metadata": {
        "id": "view-in-github",
        "colab_type": "text"
      },
      "source": [
        "<a href=\"https://colab.research.google.com/github/Kan-0102/DCGAN/blob/main/Bicubic.ipynb\" target=\"_parent\"><img src=\"https://colab.research.google.com/assets/colab-badge.svg\" alt=\"Open In Colab\"/></a>"
      ]
    },
    {
      "cell_type": "code",
      "source": [
        "from google.colab import drive\n",
        "drive.mount('/content/drive')"
      ],
      "metadata": {
        "colab": {
          "base_uri": "https://localhost:8080/"
        },
        "id": "_u_mQagpS6jC",
        "outputId": "9e43fd21-a548-4f5c-cd20-12cd6bc1e7f7"
      },
      "execution_count": null,
      "outputs": [
        {
          "output_type": "stream",
          "name": "stdout",
          "text": [
            "Mounted at /content/drive\n"
          ]
        }
      ]
    },
    {
      "cell_type": "code",
      "source": [
        "import os\n",
        "import cv2\n",
        "import random\n",
        "\n",
        "def resize_images(input_dir, output_dir, target_size=(64, 64)):\n",
        "    # 出力ディレクトリが存在しない場合は作成\n",
        "    # if not os.path.exists(output_dir):\n",
        "    #     os.makedirs(output_dir)\n",
        "\n",
        "    # 入力ディレクトリ内の画像ファイルを取得\n",
        "    image_files = [f for f in os.listdir(input_dir) if f.endswith(('.png', '.jpg', '.jpeg'))]\n",
        "\n",
        "    print(len(image_files))\n",
        "    # 各画像に対してバイキュービック補間を適用し保存\n",
        "    for image_file in image_files:\n",
        "        # 画像のパス\n",
        "        input_path = os.path.join(input_dir, image_file)\n",
        "        # 出力画像のパス\n",
        "        output_path = os.path.join(output_dir, image_file)\n",
        "\n",
        "        # 画像読み込み\n",
        "        img = cv2.imread(input_path)\n",
        "        # グレースケール変換\n",
        "        gray = cv2.cvtColor(img, cv2.COLOR_BGR2GRAY)\n",
        "        # 指定サイズにバイキュービック補間\n",
        "        dst = cv2.resize(gray, target_size, interpolation=cv2.INTER_CUBIC)\n",
        "        # 結果を保存\n",
        "        cv2.imwrite(output_path, dst)\n",
        "\n",
        "if __name__ == \"__main__\":\n",
        "    # 入力ディレクトリと出力ディレクトリを指定\n",
        "    input_directory = \"/content/drive/MyDrive/malimg_paper_dataset_imgs_all/Agent.FYI\"\n",
        "    output_directory = \"/content/drive/MyDrive/1_Dataset/minidata/Agent.FYI\"\n",
        "\n",
        "    # out_d = '/content/drive/MyDrive/2_GeneratedImages/MalImag_Dataset/Adialer.C'\n",
        "# out_d = '/content/drive/MyDrive/2_GeneratedImages/MalImag_Dataset/Agent.FYI'\n",
        "# out_d = '/content/drive/MyDrive/2_GeneratedImages/MalImag_Dataset/Alueron.gen!J'\n",
        "# out_d = '/content/drive/MyDrive/2_GeneratedImages/MalImag_Dataset/Autorun.K'\n",
        "# out_d = '/content/drive/MyDrive/2_GeneratedImages/MalImag_Dataset/C2LOP.gen!g'\n",
        "# out_d = '/content/drive/MyDrive/2_GeneratedImages/MalImag_Dataset/C2LOP.P'\n",
        "# out_d = '/content/drive/MyDrive/2_GeneratedImages/MalImag_Dataset/Dialplatform.B'\n",
        "# out_d = '/content/drive/MyDrive/2_GeneratedImages/MalImag_Dataset/Dontovo.A'\n",
        "# out_d = '/content/drive/MyDrive/2_GeneratedImages/MalImag_Dataset/Fakerean'\n",
        "# out_d = '/content/drive/MyDrive/2_GeneratedImages/MalImag_Dataset/Instantaccess'\n",
        "# out_d = '/content/drive/MyDrive/2_GeneratedImages/MalImag_Dataset/Lolyda.AA1'\n",
        "# out_d = '/content/drive/MyDrive/2_GeneratedImages/MalImag_Dataset/Lolyda.AA2'\n",
        "# out_d = '/content/drive/MyDrive/2_GeneratedImages/MalImag_Dataset/Lolyda.AA3'\n",
        "# out_d = '/content/drive/MyDrive/2_GeneratedImages/MalImag_Dataset/Lolyda.AT'\n",
        "# out_d = '/content/drive/MyDrive/2_GeneratedImages/MalImag_Dataset/Malex.gen!J'\n",
        "# out_d = '/content/drive/MyDrive/2_GeneratedImages/MalImag_Dataset/Obfuscator.AD'\n",
        "# out_d = '/content/drive/MyDrive/2_GeneratedImages/MalImag_Dataset/Rbot!gen'\n",
        "# out_d = '/content/drive/MyDrive/2_GeneratedImages/MalImag_Dataset/Skintrim.N'\n",
        "# out_d = '/content/drive/MyDrive/2_GeneratedImages/MalImag_Dataset/Swizzor.gen!E'\n",
        "# out_d = '/content/drive/MyDrive/2_GeneratedImages/MalImag_Dataset/Swizzor.gen!I'\n",
        "# out_d = '/content/drive/MyDrive/2_GeneratedImages/MalImag_Dataset/Wintrim.BX' Allaple.A, Allaple.L, VB.AT, Yuner.A\n",
        "\n",
        "    # バイキュービック補間を適用して画像をリサイズ\n",
        "    resize_images(input_directory, output_directory)\n",
        "\n",
        "def count_png_files(directory):\n",
        "    # ディレクトリ内のファイル一覧を取得\n",
        "    file_list = os.listdir(output_directory)\n",
        "\n",
        "    # .png ファイルの数をカウント\n",
        "    png_count = sum(1 for file in file_list if file.lower().endswith('.png'))\n",
        "\n",
        "    return png_count\n",
        "\n",
        "# 使用例\n",
        "png_count = count_png_files(output_directory)\n",
        "print(f\"Number of .png files: {png_count}\")"
      ],
      "metadata": {
        "colab": {
          "base_uri": "https://localhost:8080/"
        },
        "id": "NT2d8cpRgxQ5",
        "outputId": "b5ea5dac-e82a-4c0e-d99e-94c8955f6c22"
      },
      "execution_count": null,
      "outputs": [
        {
          "output_type": "stream",
          "name": "stdout",
          "text": [
            "116\n",
            "Number of .png files: 116\n"
          ]
        }
      ]
    }
  ]
}